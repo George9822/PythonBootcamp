{
 "cells": [
  {
   "cell_type": "code",
   "execution_count": 3,
   "metadata": {},
   "outputs": [],
   "source": [
    "#THIS IS WEEK1 - DataBootcamp - Endava"
   ]
  },
  {
   "cell_type": "code",
   "execution_count": 4,
   "metadata": {},
   "outputs": [
    {
     "name": "stdout",
     "output_type": "stream",
     "text": [
      "HellogeorgeR\n"
     ]
    }
   ],
   "source": [
    "greeting = \"Hello\"\n",
    "name = input(\"ENter name:\")\n",
    "print(greeting + name)"
   ]
  },
  {
   "cell_type": "code",
   "execution_count": 10,
   "metadata": {},
   "outputs": [
    {
     "name": "stdout",
     "output_type": "stream",
     "text": [
      "19\n",
      "11\n",
      "60\n",
      "3.75\n",
      "3\n",
      "3\n",
      "50625\n",
      "4\n",
      "15\n",
      "11\n",
      "True\n"
     ]
    }
   ],
   "source": [
    "x = 15\n",
    "y = 4\n",
    "\n",
    "print(x + y)\n",
    "print(x - y)\n",
    "print(x * y)\n",
    "print(x / y)\n",
    "print(x // y)\n",
    "print(x % y)\n",
    "print(x ** y)\n",
    "print(x and y)\n",
    "print(x or y)\n",
    "print(x ^ y)\n",
    "print(not(x==y))"
   ]
  },
  {
   "cell_type": "code",
   "execution_count": 12,
   "metadata": {},
   "outputs": [
    {
     "name": "stdout",
     "output_type": "stream",
     "text": [
      "Single Quotes: Welcome!\n",
      "Double Quotes: Welcome!\n",
      "Triple Quotes: Welcome!\n",
      "Triple Quotes Multiline: \n",
      "                Welcome!\n",
      "        \n"
     ]
    }
   ],
   "source": [
    "string1 = 'Welcome!'\n",
    "print(\"Single Quotes: \" + string1)\n",
    "\n",
    "string2 = \"Welcome!\"\n",
    "print(\"Double Quotes: \" + string2)\n",
    "\n",
    "string3 = '''Welcome!'''\n",
    "print(\"Triple Quotes: \" + string3)\n",
    "\n",
    "string4 = '''\n",
    "                Welcome!\n",
    "        '''\n",
    "print(\"Triple Quotes Multiline: \" + string4)"
   ]
  },
  {
   "cell_type": "code",
   "execution_count": 14,
   "metadata": {},
   "outputs": [
    {
     "name": "stdout",
     "output_type": "stream",
     "text": [
      "elcome\n",
      "loe\n",
      "Welcome!Welcome!Welcome!\n",
      "Welcome!\n",
      "                Welcome!\n",
      "        \n"
     ]
    }
   ],
   "source": [
    "print(string1[1:-1])\n",
    "print(string2[2::2])\n",
    "print(string3 * 3)\n",
    "print(string3 + string4)"
   ]
  },
  {
   "cell_type": "code",
   "execution_count": 17,
   "metadata": {},
   "outputs": [
    {
     "name": "stdout",
     "output_type": "stream",
     "text": [
      "A\n"
     ]
    }
   ],
   "source": [
    "#string1[0] = \"a\" -> ERROR\n",
    "\n",
    "try:\n",
    "    string1[0] = \"a\"\n",
    "except:\n",
    "    print(\"A\")\n"
   ]
  },
  {
   "cell_type": "code",
   "execution_count": 30,
   "metadata": {},
   "outputs": [
    {
     "name": "stdout",
     "output_type": "stream",
     "text": [
      "I've just purchase a \"Saab\"\n",
      "I've just purchased a \"Saab\"\n",
      "I've just purchased a \"Saab\"\n",
      "C:\\Python\\DataBootcamp\\\n",
      "14,3\n",
      "TIM is 24 yo\n",
      "<class 'int'>\n",
      "Pi is aprox 2.20000000000000017764\n",
      "1.600000e+01,10000,16.00\n"
     ]
    }
   ],
   "source": [
    "#Escape Sequencing\n",
    "string1 = '''I've just purchase a \"Saab\"'''\n",
    "string2 = 'I\\'ve just purchased a \"Saab\"'\n",
    "string3 = \"I've just purchased a \\\"Saab\\\"\"\n",
    "string4 = \"C:\\\\Python\\\\DataBootcamp\\\\\"\n",
    "print(string1)\n",
    "print(string2)\n",
    "print(string3)\n",
    "print(string4)\n",
    "\n",
    "#String Interpolation\n",
    "#1. format method\n",
    "print(\"{1},{0}\".format(3, 14))\n",
    "\n",
    "#2. f-strings\n",
    "name = \"TIM\"\n",
    "age = 24\n",
    "print(name + f\" is {age} yo\")\n",
    "print(type(age))\n",
    "print(f\"Pi is aprox {22 / 10:12.20f}\")\n",
    "#3.14285714285714279370\n",
    "#3.14285714285714279370\n",
    "\n",
    "print(\"{0:e},{0:b},{0:.2f}\".format(16, 16, 16.45789))\n",
    "# + Implicit/Explicit data type conversion"
   ]
  }
 ],
 "metadata": {
  "interpreter": {
   "hash": "916dbcbb3f70747c44a77c7bcd40155683ae19c65e1c03b4aa3499c5328201f1"
  },
  "kernelspec": {
   "display_name": "Python 3.9.7 64-bit",
   "name": "python3"
  },
  "language_info": {
   "codemirror_mode": {
    "name": "ipython",
    "version": 3
   },
   "file_extension": ".py",
   "mimetype": "text/x-python",
   "name": "python",
   "nbconvert_exporter": "python",
   "pygments_lexer": "ipython3",
   "version": "3.9.7"
  },
  "orig_nbformat": 4
 },
 "nbformat": 4,
 "nbformat_minor": 2
}
