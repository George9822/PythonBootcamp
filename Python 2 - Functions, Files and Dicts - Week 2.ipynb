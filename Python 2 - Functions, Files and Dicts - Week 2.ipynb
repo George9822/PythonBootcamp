{
 "cells": [
  {
   "cell_type": "code",
   "execution_count": 1,
   "id": "transsexual-lotus",
   "metadata": {},
   "outputs": [
    {
     "name": "stdout",
     "output_type": "stream",
     "text": [
      "apples has the value:  5\n",
      "bananas has the value:  6\n",
      "oranges has the value:  525\n",
      "peaches has the value:  10\n"
     ]
    }
   ],
   "source": [
    "### WEEK2 - Dictionary Learning Goals------------------\n",
    "inventory = {'apples':5, 'bananas':6, 'oranges':525, 'peaches':10}\n",
    "\n",
    "for key in inventory.keys():\n",
    "    print(key, \"has the value: \", inventory[key])\n",
    "\n"
   ]
  },
  {
   "cell_type": "code",
   "execution_count": 2,
   "id": "transparent-cherry",
   "metadata": {},
   "outputs": [
    {
     "name": "stdout",
     "output_type": "stream",
     "text": [
      "['apples', 'bananas', 'oranges', 'peaches']\n"
     ]
    }
   ],
   "source": [
    "keys = list(inventory.keys())\n",
    "print(keys)"
   ]
  },
  {
   "cell_type": "code",
   "execution_count": 4,
   "id": "consolidated-tuner",
   "metadata": {},
   "outputs": [
    {
     "name": "stdout",
     "output_type": "stream",
     "text": [
      "[5, 6, 525, 10]\n"
     ]
    }
   ],
   "source": [
    "values = list(inventory.values())\n",
    "print(values)"
   ]
  },
  {
   "cell_type": "code",
   "execution_count": 7,
   "id": "noticed-repository",
   "metadata": {},
   "outputs": [
    {
     "name": "stdout",
     "output_type": "stream",
     "text": [
      "got key  apples\n",
      "got  apples that maps to  5\n",
      "got key  bananas\n",
      "got  bananas that maps to  6\n",
      "got key  oranges\n",
      "got  oranges that maps to  525\n",
      "got key  peaches\n",
      "got  peaches that maps to  10\n",
      "[('apples', 5), ('bananas', 6), ('oranges', 525), ('peaches', 10)]\n"
     ]
    }
   ],
   "source": [
    "for k in inventory:\n",
    "    print(\"got key \", k)\n",
    "    print(\"got \", k, \"that maps to \", inventory[k])\n",
    "######\n",
    "print(list(inventory.items())) ###(list of all items in dict)\n"
   ]
  },
  {
   "cell_type": "code",
   "execution_count": 12,
   "id": "rotary-miracle",
   "metadata": {},
   "outputs": [
    {
     "name": "stdout",
     "output_type": "stream",
     "text": [
      "5\n",
      "None\n"
     ]
    }
   ],
   "source": [
    "print(inventory.get('apples')) ###method that gets value\n",
    "print(inventory.get('cherries'))"
   ]
  },
  {
   "cell_type": "code",
   "execution_count": 13,
   "id": "framed-nigeria",
   "metadata": {},
   "outputs": [
    {
     "ename": "FileNotFoundError",
     "evalue": "[Errno 2] No such file or directory: 'scarlet.txt'",
     "output_type": "error",
     "traceback": [
      "\u001b[0;31m---------------------------------------------------------------------------\u001b[0m",
      "\u001b[0;31mFileNotFoundError\u001b[0m                         Traceback (most recent call last)",
      "\u001b[0;32m<ipython-input-13-155a7ec1fec7>\u001b[0m in \u001b[0;36m<module>\u001b[0;34m\u001b[0m\n\u001b[1;32m      1\u001b[0m \u001b[0;31m###DICTIONARY ACCUMULATION-----------------------------\u001b[0m\u001b[0;34m\u001b[0m\u001b[0;34m\u001b[0m\u001b[0;34m\u001b[0m\u001b[0m\n\u001b[0;32m----> 2\u001b[0;31m \u001b[0mf\u001b[0m \u001b[0;34m=\u001b[0m \u001b[0mopen\u001b[0m\u001b[0;34m(\u001b[0m\u001b[0;34m'scarlet.txt'\u001b[0m\u001b[0;34m)\u001b[0m\u001b[0;34m\u001b[0m\u001b[0;34m\u001b[0m\u001b[0m\n\u001b[0m\u001b[1;32m      3\u001b[0m \u001b[0mtxt\u001b[0m \u001b[0;34m=\u001b[0m \u001b[0mf\u001b[0m\u001b[0;34m.\u001b[0m\u001b[0mread\u001b[0m\u001b[0;34m(\u001b[0m\u001b[0;34m)\u001b[0m\u001b[0;34m\u001b[0m\u001b[0;34m\u001b[0m\u001b[0m\n\u001b[1;32m      4\u001b[0m \u001b[0;31m#txt is one long string containing all the chars\u001b[0m\u001b[0;34m\u001b[0m\u001b[0;34m\u001b[0m\u001b[0;34m\u001b[0m\u001b[0m\n\u001b[1;32m      5\u001b[0m \u001b[0mt_count\u001b[0m \u001b[0;34m=\u001b[0m \u001b[0;36m0\u001b[0m\u001b[0;34m\u001b[0m\u001b[0;34m\u001b[0m\u001b[0m\n",
      "\u001b[0;31mFileNotFoundError\u001b[0m: [Errno 2] No such file or directory: 'scarlet.txt'"
     ]
    }
   ],
   "source": [
    "###DICTIONARY ACCUMULATION-----------------------------\n",
    "f = open('scarlet.txt')\n",
    "txt = f.read()\n",
    "#txt is one long string containing all the chars\n",
    "t_count = 0\n",
    "for c in txt:\n",
    "    if c == 't':\n",
    "        t_count = t_count + 1 #increment counter\n",
    "print(\"t: \" + str(t_count) + \" occurences\")\n"
   ]
  },
  {
   "cell_type": "code",
   "execution_count": 1,
   "id": "pressing-tolerance",
   "metadata": {},
   "outputs": [
    {
     "name": "stdout",
     "output_type": "stream",
     "text": [
      "key e has the highest value, 312\n"
     ]
    }
   ],
   "source": [
    "#a program that finds the key in a dictionary that has the maximum value. If two keys have the same maximum value, it’s OK to print out either one\n",
    "d = {'a': 194, 'b': 54, 'c':34, 'd': 44, 'e': 312, 'full':31}\n",
    "\n",
    "ks = d.keys()\n",
    "best_key_so_far = list(ks)[0]  # Have to turn ks into a real list before using [] to select an item\n",
    "for k in ks:\n",
    "    if d[k] > d[best_key_so_far]:\n",
    "        best_key_so_far = k\n",
    "\n",
    "print(\"key \" + best_key_so_far + \" has the highest value, \" + str(d[best_key_so_far]))\n"
   ]
  },
  {
   "cell_type": "code",
   "execution_count": null,
   "id": "signed-probability",
   "metadata": {},
   "outputs": [],
   "source": [
    "d = {'Ro':1, 'De':2, 'Tr':3, 'Fr': 4}\n",
    "#total ia toate valorile\n",
    "#max_value si min_value\n",
    "for "
   ]
  }
 ],
 "metadata": {
  "kernelspec": {
   "display_name": "Python 3",
   "language": "python",
   "name": "python3"
  },
  "language_info": {
   "codemirror_mode": {
    "name": "ipython",
    "version": 3
   },
   "file_extension": ".py",
   "mimetype": "text/x-python",
   "name": "python",
   "nbconvert_exporter": "python",
   "pygments_lexer": "ipython3",
   "version": "3.7.7"
  }
 },
 "nbformat": 4,
 "nbformat_minor": 5
}
