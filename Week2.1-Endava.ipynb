{
 "cells": [
  {
   "cell_type": "code",
   "execution_count": 4,
   "metadata": {},
   "outputs": [
    {
     "name": "stdout",
     "output_type": "stream",
     "text": [
      "13\n"
     ]
    }
   ],
   "source": [
    "#THIS IS WEEK2.1 - DataBootcamp - Endava\n",
    "\n",
    "def fib(no):\n",
    "    t1 = 1\n",
    "    t2 = 1\n",
    "    if no < 0:\n",
    "        return -1\n",
    "    elif no==0 or no==1:\n",
    "        return 1\n",
    "    else:\n",
    "        return fib(no-2) + fib(no-1)\n",
    "\n",
    "    \n",
    "print(fib(6))"
   ]
  }
 ],
 "metadata": {
  "interpreter": {
   "hash": "916dbcbb3f70747c44a77c7bcd40155683ae19c65e1c03b4aa3499c5328201f1"
  },
  "kernelspec": {
   "display_name": "Python 3.9.7 64-bit",
   "name": "python3"
  },
  "language_info": {
   "codemirror_mode": {
    "name": "ipython",
    "version": 3
   },
   "file_extension": ".py",
   "mimetype": "text/x-python",
   "name": "python",
   "nbconvert_exporter": "python",
   "pygments_lexer": "ipython3",
   "version": "3.9.7"
  },
  "orig_nbformat": 4
 },
 "nbformat": 4,
 "nbformat_minor": 2
}
