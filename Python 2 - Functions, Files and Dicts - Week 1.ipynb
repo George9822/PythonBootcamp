{
 "cells": [
  {
   "cell_type": "code",
   "execution_count": 6,
   "id": "indirect-walnut",
   "metadata": {},
   "outputs": [],
   "source": [
    "### WEEK1 - WRITE TO FILE\n",
    "file_obj = open(\"squares.txt\", \"w\")\n",
    "for number in range(0,13):\n",
    "    sq = number * number\n",
    "    file_obj.write(str(sq) + \"\\n\")\n",
    "file_obj.close()\n"
   ]
  },
  {
   "cell_type": "code",
   "execution_count": 21,
   "id": "mexican-bookmark",
   "metadata": {},
   "outputs": [
    {
     "name": "stdout",
     "output_type": "stream",
     "text": [
      "0\n",
      "1\n",
      "4\n",
      "9\n",
      "16\n"
     ]
    }
   ],
   "source": [
    "new_file_obj = open(\"squares.txt\", \"r\")\n",
    "print(new_file_obj.read()[:10])"
   ]
  },
  {
   "cell_type": "code",
   "execution_count": 24,
   "id": "foreign-johnson",
   "metadata": {},
   "outputs": [
    {
     "name": "stdout",
     "output_type": "stream",
     "text": [
      "<_io.TextIOWrapper name='squares.txt' mode='r' encoding='UTF-8'>\n"
     ]
    }
   ],
   "source": [
    "### WEEK1 - Using -with- to open files\n",
    "fname = 'squares.txt'\n",
    "with open(fname, 'r') as sq:\n",
    "    sq.read()[:]\n",
    "    print(sq.r)"
   ]
  },
  {
   "cell_type": "code",
   "execution_count": 12,
   "id": "lined-event",
   "metadata": {},
   "outputs": [
    {
     "name": "stdout",
     "output_type": "stream",
     "text": [
      "Name,Sex,Age\n",
      "George,M,21\n",
      "Dalia,F,21\n",
      "Oruz,M,21\n",
      "-----------------\n",
      "['Name', 'Sex', 'Age']\n",
      "['Name', 'Sex', 'Age']\n",
      "Name : Sex : Age\n",
      "['George', 'M', '21']\n",
      "George : M : 21\n",
      "['Dalia', 'F', '21']\n",
      "Dalia : F : 21\n",
      "['Oruz', 'M', '21']\n",
      "Oruz : M : 21\n"
     ]
    }
   ],
   "source": [
    "### WEEK1 - Reading in data from CSV\n",
    "file = open(\"file1.csv\", \"r\")\n",
    "lines = file.readlines()\n",
    "for line in lines:\n",
    "    print(line.strip())\n",
    "print('-----------------')\n",
    "header = lines[0]\n",
    "field_names = header.strip().split(',')\n",
    "print(field_names)\n",
    "for line in lines:\n",
    "    vals = line.strip().split(',')\n",
    "    print(vals)\n",
    "    if vals[1] != \"NA\":\n",
    "        print(\"{} : {} : {}\".format(vals[0],vals[1],vals[2]))"
   ]
  },
  {
   "cell_type": "code",
   "execution_count": 18,
   "id": "ranging-strengthening",
   "metadata": {},
   "outputs": [],
   "source": [
    "### WEEK1 - Writing data to a CSV file\n",
    "olympics = [(\"John\", '31', \"Cross\"),\n",
    "            (\"Minna\", '32', \"Sailing\"),\n",
    "            (\"Geoge\", '23', \"Rowing\")]\n",
    "outfile = open(\"reduced_olympics.csv\", \"w\")\n",
    "outfile.write(\"Name, Age, Sport\")\n",
    "outfile.write('\\n')\n",
    "for person in olympics:\n",
    "    #row_string ='{},{},{}'.format(\n",
    "    #person[0], person[1], person[2]\n",
    "#)\n",
    "    row_string = ','.join(person)\n",
    "    outfile.write(row_string + '\\n')\n",
    "outfile.close()"
   ]
  },
  {
   "cell_type": "code",
   "execution_count": null,
   "id": "funky-belfast",
   "metadata": {},
   "outputs": [],
   "source": []
  }
 ],
 "metadata": {
  "interpreter": {
   "hash": "916dbcbb3f70747c44a77c7bcd40155683ae19c65e1c03b4aa3499c5328201f1"
  },
  "kernelspec": {
   "display_name": "Python 3.9.7 64-bit",
   "name": "python3"
  },
  "language_info": {
   "codemirror_mode": {
    "name": "ipython",
    "version": 3
   },
   "file_extension": ".py",
   "mimetype": "text/x-python",
   "name": "python",
   "nbconvert_exporter": "python",
   "pygments_lexer": "ipython3",
   "version": "3.9.7"
  }
 },
 "nbformat": 4,
 "nbformat_minor": 5
}
